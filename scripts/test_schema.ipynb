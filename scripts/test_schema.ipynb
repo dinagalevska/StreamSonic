{
 "cells": [
  {
   "cell_type": "code",
   "execution_count": 1,
   "id": "a8a6f1ab-a9f8-4feb-97b8-3509b75450b4",
   "metadata": {},
   "outputs": [],
   "source": [
    "from data_schemas import (\n",
    "    listening_events_schema,\n",
    "    authentication_events_schema,\n",
    "    page_view_events_schema,\n",
    "    status_change_events_schema,\n",
    ")"
   ]
  },
  {
   "cell_type": "code",
   "execution_count": 2,
   "id": "14cad356-b5db-4d2e-ab3b-d2820e0ae24c",
   "metadata": {},
   "outputs": [
    {
     "data": {
      "text/plain": [
       "StructType(List(StructField(artist,StringType,true),StructField(song,StringType,true),StructField(duration,DoubleType,true),StructField(ts,LongType,true),StructField(sessionId,LongType,true),StructField(auth,StringType,true),StructField(level,StringType,true),StructField(itemInSession,LongType,true),StructField(city,StringType,true),StructField(zip,StringType,true),StructField(state,StringType,true),StructField(userAgent,StringType,true),StructField(lon,DoubleType,true),StructField(lat,DoubleType,true),StructField(userId,LongType,true),StructField(lastName,StringType,true),StructField(firstName,StringType,true),StructField(gender,StringType,true),StructField(registration,LongType,true)))"
      ]
     },
     "execution_count": 2,
     "metadata": {},
     "output_type": "execute_result"
    }
   ],
   "source": [
    "listening_events_schema"
   ]
  },
  {
   "cell_type": "code",
   "execution_count": 3,
   "id": "6ad5c9bf-0110-4c37-b335-4e3fb487e47a",
   "metadata": {},
   "outputs": [
    {
     "data": {
      "text/plain": [
       "StructType(List(StructField(ts,LongType,true),StructField(sessionId,LongType,true),StructField(level,StringType,true),StructField(itemInSession,LongType,true),StructField(city,StringType,true),StructField(zip,StringType,true),StructField(state,StringType,true),StructField(userAgent,StringType,true),StructField(lon,DoubleType,true),StructField(lat,DoubleType,true),StructField(userId,LongType,true),StructField(lastName,StringType,true),StructField(firstName,StringType,true),StructField(gender,StringType,true),StructField(registration,LongType,true),StructField(success,StringType,true)))"
      ]
     },
     "execution_count": 3,
     "metadata": {},
     "output_type": "execute_result"
    }
   ],
   "source": [
    "authentication_events_schema"
   ]
  },
  {
   "cell_type": "code",
   "execution_count": 4,
   "id": "06201f72-7ce1-4862-b8aa-23d4f92774ba",
   "metadata": {},
   "outputs": [
    {
     "data": {
      "text/plain": [
       "StructType(List(StructField(ts,LongType,true),StructField(sessionId,LongType,true),StructField(page,StringType,true),StructField(auth,StringType,true),StructField(method,StringType,true),StructField(status,IntegerType,true),StructField(level,StringType,true),StructField(itemInSession,LongType,true),StructField(city,StringType,true),StructField(zip,StringType,true),StructField(state,StringType,true),StructField(userAgent,StringType,true),StructField(lon,DoubleType,true),StructField(lat,DoubleType,true),StructField(userId,LongType,true),StructField(lastName,StringType,true),StructField(firstName,StringType,true),StructField(gender,StringType,true),StructField(registration,LongType,true),StructField(artist,StringType,true),StructField(song,StringType,true),StructField(duration,DoubleType,true)))"
      ]
     },
     "execution_count": 4,
     "metadata": {},
     "output_type": "execute_result"
    }
   ],
   "source": [
    "page_view_events_schema"
   ]
  },
  {
   "cell_type": "code",
   "execution_count": 5,
   "id": "4c6e340d-c8ea-41a6-a2a5-b6e62fe0dd81",
   "metadata": {},
   "outputs": [
    {
     "data": {
      "text/plain": [
       "StructType(List(StructField(ts,LongType,true),StructField(sessionId,LongType,true),StructField(auth,StringType,true),StructField(level,StringType,true),StructField(itemInSession,LongType,true),StructField(city,StringType,true),StructField(zip,StringType,true),StructField(state,StringType,true),StructField(userAgent,StringType,true),StructField(lon,DoubleType,true),StructField(lat,DoubleType,true),StructField(userId,LongType,true),StructField(lastName,StringType,true),StructField(firstName,StringType,true),StructField(gender,StringType,true),StructField(registration,LongType,true)))"
      ]
     },
     "execution_count": 5,
     "metadata": {},
     "output_type": "execute_result"
    }
   ],
   "source": [
    "status_change_events_schema"
   ]
  },
  {
   "cell_type": "code",
   "execution_count": null,
   "id": "f3a62ed4-4226-49ee-8fe4-6c8c85c254ad",
   "metadata": {},
   "outputs": [],
   "source": []
  }
 ],
 "metadata": {
  "kernelspec": {
   "display_name": "Python 3 (ipykernel)",
   "language": "python",
   "name": "python3"
  },
  "language_info": {
   "codemirror_mode": {
    "name": "ipython",
    "version": 3
   },
   "file_extension": ".py",
   "mimetype": "text/x-python",
   "name": "python",
   "nbconvert_exporter": "python",
   "pygments_lexer": "ipython3",
   "version": "3.12.3"
  }
 },
 "nbformat": 4,
 "nbformat_minor": 5
}
